{
 "cells": [
  {
   "cell_type": "code",
   "execution_count": 3,
   "id": "fd0b2f26",
   "metadata": {},
   "outputs": [],
   "source": [
    "import os\n",
    "\n",
    "from dotenv import load_dotenv\n",
    "from pydantic import BaseModel, Field\n",
    "from typing import List\n",
    "from typing_extensions import Annotated, Literal, TypedDict\n",
    "\n",
    "from langgraph.graph import add_messages\n",
    "\n",
    "\n",
    "_ = load_dotenv()\n",
    "OPENROUTER_API_KEY = os.getenv(\"OPENROUTER_API_KEY\", \"\")\n",
    "\n",
    "class Router(BaseModel):\n",
    "    \"\"\"Analyze the unread email and route it according to its content.\n",
    "    \"\"\"\n",
    "    reasoning: str = Field(\n",
    "        description=\"Step-by-step reasoning behind the classification.\"\n",
    "    )\n",
    "    classification: Literal[\"ignore\", \"respond\", \"notify\"] = Field(\n",
    "        description=\"The classification of an email: 'ignore' for irrelevant emails, 'notify' for important information that doesn't need a response, 'respond' for emails that need a reply\",\n",
    "    )\n",
    "\n",
    "class State(TypedDict):\n",
    "    email_input: str\n",
    "    messages: Annotated[List, add_messages]\n",
    "    \n",
    "profile = {\n",
    "    \"name\": \"Yoona\",\n",
    "    \"full_name\": \"Lim Yoona\",\n",
    "    \"user_profile_background\": \"Senior software engineer leading a team of 5 developers\",\n",
    "}"
   ]
  },
  {
   "cell_type": "code",
   "execution_count": 4,
   "id": "c7f4c1e9",
   "metadata": {},
   "outputs": [],
   "source": [
    "from typing import List\n",
    "\n",
    "from langchain_core.tools import tool\n",
    "from langchain_openai import OpenAIEmbeddings\n",
    "\n",
    "from langgraph.store.memory import InMemoryStore\n",
    "\n",
    "from langmem import create_manage_memory_tool, create_search_memory_tool\n",
    "\n",
    "\n",
    "@tool\n",
    "def write_email(to: str, subject: str, content: str) -> str:\n",
    "    \"\"\"Write and send an email.\"\"\"\n",
    "    # placeholder response - in real app would send email\n",
    "    return f\"Email sent to {to} with subject '{subject}'.\"\n",
    "\n",
    "@tool\n",
    "def schedule_meeting(\n",
    "    attendees: List[str], \n",
    "    subject: str, \n",
    "    duration_minutes: int, \n",
    "    preferred_day: str\n",
    ") -> str:\n",
    "    \"\"\"Schedule a calendar meeting.\"\"\"\n",
    "    # placeholder response - in real app would check calendar and schedule\n",
    "    return f\"Meeting '{subject}' scheduled for {preferred_day} with {len(attendees)} attendees.\"\n",
    "\n",
    "@tool\n",
    "def check_calendar_availability(day: str) -> str:\n",
    "    \"\"\"Check calendar availability for a given day.\"\"\"\n",
    "    # placeholder response - in real app would check actual calendar\n",
    "    return f\"Available times on {day}: 9:00 AM, 2:00 PM, 4:00 PM.\"\n",
    "\n",
    "embeddings = OpenAIEmbeddings(\n",
    "    model=\"text-embedding-3-small\",\n",
    ")\n",
    "\n",
    "store = InMemoryStore(\n",
    "    index={\"embed\": embeddings}\n",
    ")\n",
    "\n",
    "manage_memory_tool = create_manage_memory_tool(\n",
    "    namespace=(\n",
    "        \"email_assistant\", \n",
    "        \"{langgraph_user_id}\",\n",
    "        \"collection\"\n",
    "    )\n",
    ")\n",
    "search_memory_tool = create_search_memory_tool(\n",
    "    namespace=(\n",
    "        \"email_assistant\",\n",
    "        \"{langgraph_user_id}\",\n",
    "        \"collection\"\n",
    "    )\n",
    ")"
   ]
  },
  {
   "cell_type": "code",
   "execution_count": 5,
   "id": "29a13b20",
   "metadata": {},
   "outputs": [],
   "source": [
    "from prompts import agent_system_prompt_memory_2, prompt_instructions\n",
    "\n",
    "\n",
    "def create_prompt(state, config, store):\n",
    "    langgraph_user_id = config['configurable']['langgraph_user_id']\n",
    "    namespace = (langgraph_user_id, )\n",
    "    result = store.get(namespace, \"agent_instructions\")\n",
    "    if result is None:\n",
    "        store.put(\n",
    "            namespace, \n",
    "            \"agent_instructions\", \n",
    "            {\"prompt\": prompt_instructions[\"agent_instructions\"]}\n",
    "        )\n",
    "        prompt = prompt_instructions[\"agent_instructions\"]\n",
    "    else:\n",
    "        prompt = result.value['prompt']\n",
    "        \n",
    "    return [\n",
    "        {\n",
    "            \"role\": \"system\", \n",
    "            \"content\": agent_system_prompt_memory_2.format(\n",
    "                full_name=profile[\"full_name\"],\n",
    "                name=profile[\"name\"],\n",
    "\t\t\t\tinstructions=prompt, \n",
    "            )\n",
    "        }\n",
    "    ] + state['messages']"
   ]
  },
  {
   "cell_type": "code",
   "execution_count": 6,
   "id": "9d77c1c6",
   "metadata": {},
   "outputs": [],
   "source": [
    "from langgraph.prebuilt import create_react_agent\n",
    "\n",
    "from langchain_openai import ChatOpenAI\n",
    "\n",
    "\n",
    "llm = ChatOpenAI(\n",
    "\tmodel=\"openai/gpt-4.1\",\n",
    "\tbase_url=\"https://openrouter.ai/api/v1\",\n",
    "\tapi_key=OPENROUTER_API_KEY\n",
    ")\n",
    "\n",
    "tools= [\n",
    "    write_email, \n",
    "    schedule_meeting,\n",
    "    check_calendar_availability,\n",
    "    manage_memory_tool,\n",
    "    search_memory_tool\n",
    "]\n",
    "\n",
    "response_agent = create_react_agent(\n",
    "    llm,\n",
    "    tools=tools,\n",
    "    prompt=create_prompt,\n",
    "    store=store\t    # use this to ensure the store is passed to the agent \n",
    ")"
   ]
  },
  {
   "cell_type": "code",
   "execution_count": 7,
   "id": "1a8de63a",
   "metadata": {},
   "outputs": [],
   "source": [
    "# template for formating an example to put in prompt\n",
    "template = \"\"\"\n",
    "\tEmail Subject: {subject}\n",
    "\tEmail From: {from_email}\n",
    "\tEmail To: {to_email}\n",
    "\tEmail Content: \n",
    "\t'''\n",
    "\t{content}\n",
    "\t'''\n",
    "\t> Triage Result: {result}\n",
    "\"\"\"\n",
    "\n",
    "# format list of few shots\n",
    "def format_few_shot_examples(examples):\n",
    "    strs = [\"Here are some previous examples:\"]\n",
    "    for eg in examples:\n",
    "        strs.append(\n",
    "            template.format(\n",
    "                subject=eg.value[\"email\"][\"subject\"],\n",
    "                to_email=eg.value[\"email\"][\"to\"],\n",
    "                from_email=eg.value[\"email\"][\"author\"],\n",
    "                content=eg.value[\"email\"][\"email_thread\"][:400],\n",
    "                result=eg.value[\"label\"],\n",
    "            )\n",
    "        )\n",
    "    return \"\\n\\n------------\\n\\n\".join(strs)"
   ]
  },
  {
   "cell_type": "code",
   "execution_count": 8,
   "id": "51ab5a1f",
   "metadata": {},
   "outputs": [],
   "source": [
    "from typing import Literal\n",
    "\n",
    "from langchain_openai import ChatOpenAI\n",
    "\n",
    "from langgraph.graph import StateGraph, START, END\n",
    "from langgraph.types import Command\n",
    "\n",
    "from prompts import triage_system_prompt, triage_user_prompt, prompt_instructions\n",
    "\n",
    "\n",
    "llm = ChatOpenAI(\n",
    "\tmodel=\"openai/gpt-4.1\",\n",
    "\tbase_url=\"https://openrouter.ai/api/v1\",\n",
    "\tapi_key=OPENROUTER_API_KEY\n",
    ")\n",
    "llm_router = llm.with_structured_output(Router)\n",
    "\n",
    "def triage_router(state: State, config, store) -> Command[Literal[\"response_agent\", \"__end__\"]]:\n",
    "\tauthor = state['email_input']['author']\n",
    "\tto = state['email_input']['to']\n",
    "\tsubject = state['email_input']['subject']\n",
    "\temail_thread = state['email_input']['email_thread']\n",
    "\n",
    "\tnamespace = (\"email_assistant\", config['configurable']['langgraph_user_id'], \"examples\")\n",
    "\texamples = store.search(\n",
    "\t\tnamespace, \n",
    "\t\tquery=str({\"email\": state['email_input']})\n",
    "\t) \n",
    "\texamples=format_few_shot_examples(examples)\n",
    "\n",
    "\tlanggraph_user_id = config['configurable']['langgraph_user_id']\n",
    "\tnamespace = (langgraph_user_id, )\n",
    "\n",
    "\tresult = store.get(namespace, \"triage_ignore\")\n",
    "\tif result is None:\n",
    "\t\tstore.put(\n",
    "\t\t\tnamespace, \n",
    "\t\t\t\"triage_ignore\", \n",
    "\t\t\t{\"prompt\": prompt_instructions[\"triage_rules\"][\"ignore\"]}\n",
    "\t\t)\n",
    "\t\tignore_prompt = prompt_instructions[\"triage_rules\"][\"ignore\"]\n",
    "\telse:\n",
    "\t\tignore_prompt = result.value['prompt']\n",
    "\n",
    "\tresult = store.get(namespace, \"triage_notify\")\n",
    "\tif result is None:\n",
    "\t\tstore.put(\n",
    "\t\t\tnamespace, \n",
    "\t\t\t\"triage_notify\", \n",
    "\t\t\t{\"prompt\": prompt_instructions[\"triage_rules\"][\"notify\"]}\n",
    "\t\t)\n",
    "\t\tnotify_prompt = prompt_instructions[\"triage_rules\"][\"notify\"]\n",
    "\telse:\n",
    "\t\tnotify_prompt = result.value['prompt']\n",
    "\n",
    "\tresult = store.get(namespace, \"triage_respond\")\n",
    "\tif result is None:\n",
    "\t\tstore.put(\n",
    "\t\t\tnamespace, \n",
    "\t\t\t\"triage_respond\", \n",
    "\t\t\t{\"prompt\": prompt_instructions[\"triage_rules\"][\"respond\"]}\n",
    "\t\t)\n",
    "\t\trespond_prompt = prompt_instructions[\"triage_rules\"][\"respond\"]\n",
    "\telse:\n",
    "\t\trespond_prompt = result.value['prompt']\n",
    "\n",
    "\tsystem_prompt = triage_system_prompt.format(\n",
    "\t\tfull_name=profile[\"full_name\"],\n",
    "\t\tname=profile[\"name\"],\n",
    "\t\tuser_profile_background=profile[\"user_profile_background\"],\n",
    "\t\ttriage_no=ignore_prompt,\n",
    "\t\ttriage_notify=notify_prompt,\n",
    "\t\ttriage_email=respond_prompt,\n",
    "\t\texamples=examples\n",
    "\t)\n",
    "\tuser_prompt = triage_user_prompt.format(\n",
    "\t\tauthor=author, \n",
    "\t\tto=to, \n",
    "\t\tsubject=subject, \n",
    "\t\temail_thread=email_thread\n",
    "\t)\n",
    "\tresult = llm_router.invoke(\n",
    "\t\t[\n",
    "\t\t\t{\"role\": \"system\", \"content\": system_prompt},\n",
    "\t\t\t{\"role\": \"user\", \"content\": user_prompt},\n",
    "\t\t]\n",
    "\t)\n",
    "\tif result.classification == \"respond\":\n",
    "\t\tprint(\"📧 Classification: RESPOND - This email requires a response\")\n",
    "\t\tgoto = \"response_agent\"\n",
    "\t\tupdate = {\n",
    "\t\t\t\"messages\": [\n",
    "\t\t\t\t{\n",
    "\t\t\t\t\t\"role\": \"user\",\n",
    "\t\t\t\t\t\"content\": f\"Respond to the email {state['email_input']}\",\n",
    "\t\t\t\t}\n",
    "\t\t\t]\n",
    "\t\t}\n",
    "\telif result.classification == \"ignore\":\n",
    "\t\tprint(\"🚫 Classification: IGNORE - This email can be safely ignored\")\n",
    "\t\tupdate = None\n",
    "\t\tgoto = END\n",
    "\telif result.classification == \"notify\":\n",
    "\t\t# if real life, this would do something else\n",
    "\t\tprint(\"🔔 Classification: NOTIFY - This email contains important information\")\n",
    "\t\tupdate = None\n",
    "\t\tgoto = END\n",
    "\telse:\n",
    "\t\traise ValueError(f\"Invalid classification: {result.classification}\")\n",
    "\treturn Command(goto=goto, update=update)\n",
    "\n",
    "email_agent = StateGraph(State)\n",
    "email_agent = email_agent.add_node(triage_router)\n",
    "email_agent = email_agent.add_node(\"response_agent\", response_agent)\n",
    "email_agent = email_agent.add_edge(START, \"triage_router\")\n",
    "email_agent = email_agent.compile(store=store)"
   ]
  },
  {
   "cell_type": "code",
   "execution_count": 9,
   "id": "9769cebb",
   "metadata": {},
   "outputs": [
    {
     "name": "stdout",
     "output_type": "stream",
     "text": [
      "📧 Classification: RESPOND - This email requires a response\n"
     ]
    }
   ],
   "source": [
    "# current behaviour\n",
    "\n",
    "email_input = {\n",
    "    \"author\": \"Alice Jones <alice.jones@bar.com>\",\n",
    "    \"to\": \"Lim Yoona <yoona@company.com>\",\n",
    "    \"subject\": \"Quick question about API documentation\",\n",
    "    \"email_thread\": \"\"\"\n",
    "    \tHi Yoon,\n",
    "\n",
    "\t\tUrgent issue - your service is down. Is there a reason why.\n",
    "    \"\"\",\n",
    "}\n",
    "\n",
    "response = email_agent.invoke(\n",
    "    {\"email_input\": email_input},\n",
    "    config={\"configurable\": {\"langgraph_user_id\": \"lance\"}}\n",
    ")"
   ]
  },
  {
   "cell_type": "code",
   "execution_count": 10,
   "id": "025b84a4",
   "metadata": {},
   "outputs": [
    {
     "data": {
      "text/plain": [
       "\"Use these tools when appropriate to help manage Yoona's tasks efficiently.\""
      ]
     },
     "execution_count": 10,
     "metadata": {},
     "output_type": "execute_result"
    }
   ],
   "source": [
    "# look at current values of long term memory\n",
    "\n",
    "store.get((\"lance\",), \"agent_instructions\").value['prompt']"
   ]
  },
  {
   "cell_type": "code",
   "execution_count": 11,
   "id": "e64864c6",
   "metadata": {},
   "outputs": [
    {
     "data": {
      "text/plain": [
       "'Direct questions from team members, meeting requests, critical bug reports'"
      ]
     },
     "execution_count": 11,
     "metadata": {},
     "output_type": "execute_result"
    }
   ],
   "source": [
    "store.get((\"lance\",), \"triage_respond\").value['prompt']"
   ]
  },
  {
   "cell_type": "code",
   "execution_count": 12,
   "id": "0f651d6d",
   "metadata": {},
   "outputs": [
    {
     "data": {
      "text/plain": [
       "'Marketing newsletters, spam emails, mass company announcements'"
      ]
     },
     "execution_count": 12,
     "metadata": {},
     "output_type": "execute_result"
    }
   ],
   "source": [
    "store.get((\"lance\",), \"triage_ignore\").value['prompt']"
   ]
  },
  {
   "cell_type": "code",
   "execution_count": 13,
   "id": "e1913eed",
   "metadata": {},
   "outputs": [
    {
     "data": {
      "text/plain": [
       "'Team member out sick, build system notifications, project status updates'"
      ]
     },
     "execution_count": 13,
     "metadata": {},
     "output_type": "execute_result"
    }
   ],
   "source": [
    "store.get((\"lance\",), \"triage_notify\").value['prompt']"
   ]
  },
  {
   "cell_type": "code",
   "execution_count": 14,
   "id": "82d4f9b5",
   "metadata": {},
   "outputs": [
    {
     "data": {
      "text/plain": [
       "[{'name': 'main_agent',\n",
       "  'prompt': \"Use these tools when appropriate to help manage Yoona's tasks efficiently.\\nAlways sign emails as 'Lim Yoona'.\",\n",
       "  'update_instructions': 'keep the instructions short and to the point',\n",
       "  'when_to_update': 'Update this prompt whenever there is feedback on how the agent should write emails or schedule events'},\n",
       " {'name': 'triage-ignore',\n",
       "  'prompt': 'Marketing newsletters, spam emails, mass company announcements',\n",
       "  'update_instructions': 'keep the instructions short and to the point',\n",
       "  'when_to_update': 'Update this prompt whenever there is feedback on which emails should be ignored'},\n",
       " {'name': 'triage-notify',\n",
       "  'prompt': 'Team member out sick, build system notifications, project status updates',\n",
       "  'update_instructions': 'keep the instructions short and to the point',\n",
       "  'when_to_update': 'Update this prompt whenever there is feedback on which emails the user should be notified of'},\n",
       " {'name': 'triage-respond',\n",
       "  'prompt': 'Direct questions from team members, meeting requests, critical bug reports',\n",
       "  'update_instructions': 'keep the instructions short and to the point',\n",
       "  'when_to_update': 'Update this prompt whenever there is feedback on which emails should be responded to'}]"
      ]
     },
     "execution_count": 14,
     "metadata": {},
     "output_type": "execute_result"
    }
   ],
   "source": [
    "# now use LLM to update instructions\n",
    "\n",
    "from langmem import create_multi_prompt_optimizer\n",
    "\n",
    "\n",
    "conversations = [\n",
    "    (\n",
    "        response['messages'],\n",
    "        \"Always sign your emails 'Lim Yoona'\"\n",
    "    )\n",
    "]\n",
    "\n",
    "prompts = [\n",
    "    {\n",
    "        \"name\": \"main_agent\",\n",
    "        \"prompt\": store.get((\"lance\",), \"agent_instructions\").value['prompt'],\n",
    "        \"update_instructions\": \"keep the instructions short and to the point\",\n",
    "        \"when_to_update\": \"Update this prompt whenever there is feedback on how the agent should write emails or schedule events\"\n",
    "        \n",
    "    },\n",
    "    {\n",
    "        \"name\": \"triage-ignore\", \n",
    "        \"prompt\": store.get((\"lance\",), \"triage_ignore\").value['prompt'],\n",
    "        \"update_instructions\": \"keep the instructions short and to the point\",\n",
    "        \"when_to_update\": \"Update this prompt whenever there is feedback on which emails should be ignored\"\n",
    "\n",
    "    },\n",
    "    {\n",
    "        \"name\": \"triage-notify\", \n",
    "        \"prompt\": store.get((\"lance\",), \"triage_notify\").value['prompt'],\n",
    "        \"update_instructions\": \"keep the instructions short and to the point\",\n",
    "        \"when_to_update\": \"Update this prompt whenever there is feedback on which emails the user should be notified of\"\n",
    "\n",
    "    },\n",
    "    {\n",
    "        \"name\": \"triage-respond\", \n",
    "        \"prompt\": store.get((\"lance\",), \"triage_respond\").value['prompt'],\n",
    "        \"update_instructions\": \"keep the instructions short and to the point\",\n",
    "        \"when_to_update\": \"Update this prompt whenever there is feedback on which emails should be responded to\"\n",
    "\n",
    "    },\n",
    "]\n",
    "\n",
    "optimizer = create_multi_prompt_optimizer(\n",
    "    llm,\n",
    "    kind=\"prompt_memory\",\n",
    ")\n",
    "\n",
    "updated = optimizer.invoke(\n",
    "    {\"trajectories\": conversations, \"prompts\": prompts}\n",
    ")\n",
    "updated"
   ]
  },
  {
   "cell_type": "code",
   "execution_count": 15,
   "id": "0d43f2a5",
   "metadata": {},
   "outputs": [
    {
     "name": "stdout",
     "output_type": "stream",
     "text": [
      "updated main_agent\n"
     ]
    }
   ],
   "source": [
    "# update prompts in store\n",
    "\n",
    "for i, updated_prompt in enumerate(updated):\n",
    "    old_prompt = prompts[i]\n",
    "    if updated_prompt['prompt'] != old_prompt['prompt']:\n",
    "        name = old_prompt['name']\n",
    "        print(f\"updated {name}\")\n",
    "        if name == \"main_agent\":\n",
    "            store.put(\n",
    "                (\"lance\",),\n",
    "                \"agent_instructions\",\n",
    "                {\"prompt\":updated_prompt['prompt']}\n",
    "            )\n",
    "        else:\n",
    "            print(f\"Encountered {name}, implement the remaining stores!\")"
   ]
  },
  {
   "cell_type": "code",
   "execution_count": 16,
   "id": "1bc667bd",
   "metadata": {},
   "outputs": [
    {
     "data": {
      "text/plain": [
       "\"Use these tools when appropriate to help manage Yoona's tasks efficiently.\\nAlways sign emails as 'Lim Yoona'.\""
      ]
     },
     "execution_count": 16,
     "metadata": {},
     "output_type": "execute_result"
    }
   ],
   "source": [
    "store.get((\"lance\",), \"agent_instructions\").value['prompt']"
   ]
  },
  {
   "cell_type": "code",
   "execution_count": 17,
   "id": "8de66de8",
   "metadata": {},
   "outputs": [
    {
     "name": "stdout",
     "output_type": "stream",
     "text": [
      "📧 Classification: RESPOND - This email requires a response\n",
      "================================\u001b[1m Human Message \u001b[0m=================================\n",
      "\n",
      "Respond to the email {'author': 'Alice Jones <alice.jones@bar.com>', 'to': 'Lim Yoona <yoona@company.com>', 'subject': 'Quick question about API documentation', 'email_thread': '\\n    \\tHi Yoon,\\n\\n\\t\\tUrgent issue - your service is down. Is there a reason why.\\n    '}\n",
      "==================================\u001b[1m Ai Message \u001b[0m==================================\n",
      "Tool Calls:\n",
      "  write_email (call_dzqjlcwrSU7r5FXojcvxqmIK)\n",
      " Call ID: call_dzqjlcwrSU7r5FXojcvxqmIK\n",
      "  Args:\n",
      "    to: alice.jones@bar.com\n",
      "    subject: Re: Quick question about API documentation\n",
      "    content: Hi Alice,\n",
      "\n",
      "Thank you for letting me know. I am looking into the issue right now and will update you as soon as I have more information. Please let me know if you have any additional details about the downtime that may help with troubleshooting.\n",
      "\n",
      "Best regards,\n",
      "Lim Yoona\n",
      "=================================\u001b[1m Tool Message \u001b[0m=================================\n",
      "Name: write_email\n",
      "\n",
      "Email sent to alice.jones@bar.com with subject 'Re: Quick question about API documentation'.\n",
      "==================================\u001b[1m Ai Message \u001b[0m==================================\n",
      "\n",
      "I've responded to Alice, acknowledging the urgent issue and letting her know I am looking into it. I will update her as soon as I have more information. Let me know if you'd like me to take any further actions or communicate with your technical team regarding the service downtime.\n"
     ]
    }
   ],
   "source": [
    "# current behaviour\n",
    "\n",
    "email_input = {\n",
    "    \"author\": \"Alice Jones <alice.jones@bar.com>\",\n",
    "    \"to\": \"Lim Yoona <yoona@company.com>\",\n",
    "    \"subject\": \"Quick question about API documentation\",\n",
    "    \"email_thread\": \"\"\"\n",
    "    \tHi Yoon,\n",
    "\n",
    "\t\tUrgent issue - your service is down. Is there a reason why.\n",
    "    \"\"\",\n",
    "}\n",
    "\n",
    "response = email_agent.invoke(\n",
    "    {\"email_input\": email_input},\n",
    "    config={\"configurable\": {\"langgraph_user_id\": \"lance\"}}\n",
    ")\n",
    "for m in response[\"messages\"]:\n",
    "    m.pretty_print()"
   ]
  },
  {
   "cell_type": "code",
   "execution_count": 18,
   "id": "7e847618",
   "metadata": {},
   "outputs": [],
   "source": [
    "conversations = [\n",
    "    (\n",
    "        response['messages'],\n",
    "        \"Ignore any emails from Alice Jones\"\n",
    "    )\n",
    "]"
   ]
  },
  {
   "cell_type": "code",
   "execution_count": 19,
   "id": "8391dd8d",
   "metadata": {},
   "outputs": [
    {
     "name": "stdout",
     "output_type": "stream",
     "text": [
      "updated triage-ignore\n"
     ]
    }
   ],
   "source": [
    "prompts = [\n",
    "    {\n",
    "        \"name\": \"main_agent\",\n",
    "        \"prompt\": store.get((\"lance\",), \"agent_instructions\").value['prompt'],\n",
    "        \"update_instructions\": \"keep the instructions short and to the point\",\n",
    "        \"when_to_update\": \"Update this prompt whenever there is feedback on how the agent should write emails or schedule events\"\n",
    "        \n",
    "    },\n",
    "    {\n",
    "        \"name\": \"triage-ignore\", \n",
    "        \"prompt\": store.get((\"lance\",), \"triage_ignore\").value['prompt'],\n",
    "        \"update_instructions\": \"keep the instructions short and to the point\",\n",
    "        \"when_to_update\": \"Update this prompt whenever there is feedback on which emails should be ignored\"\n",
    "\n",
    "    },\n",
    "    {\n",
    "        \"name\": \"triage-notify\", \n",
    "        \"prompt\": store.get((\"lance\",), \"triage_notify\").value['prompt'],\n",
    "        \"update_instructions\": \"keep the instructions short and to the point\",\n",
    "        \"when_to_update\": \"Update this prompt whenever there is feedback on which emails the user should be notified of\"\n",
    "\n",
    "    },\n",
    "    {\n",
    "        \"name\": \"triage-respond\", \n",
    "        \"prompt\": store.get((\"lance\",), \"triage_respond\").value['prompt'],\n",
    "        \"update_instructions\": \"keep the instructions short and to the point\",\n",
    "        \"when_to_update\": \"Update this prompt whenever there is feedback on which emails should be responded to\"\n",
    "\n",
    "    },\n",
    "]\n",
    "\n",
    "updated = optimizer.invoke(\n",
    "    {\"trajectories\": conversations, \"prompts\": prompts}\n",
    ")\n",
    "\n",
    "for i, updated_prompt in enumerate(updated):\n",
    "    old_prompt = prompts[i]\n",
    "    if updated_prompt['prompt'] != old_prompt['prompt']:\n",
    "        name = old_prompt['name']\n",
    "        print(f\"updated {name}\")\n",
    "        if name == \"main_agent\":\n",
    "            store.put(\n",
    "                (\"lance\",),\n",
    "                \"agent_instructions\",\n",
    "                {\"prompt\":updated_prompt['prompt']}\n",
    "            )\n",
    "        if name == \"triage-ignore\":\n",
    "            store.put(\n",
    "                (\"lance\",),\n",
    "                \"triage_ignore\",\n",
    "                {\"prompt\":updated_prompt['prompt']}\n",
    "            )\n",
    "        else:\n",
    "            print(f\"Encountered {name}, implement the remaining stores!\")"
   ]
  },
  {
   "cell_type": "code",
   "execution_count": 20,
   "id": "053f5767",
   "metadata": {},
   "outputs": [
    {
     "name": "stdout",
     "output_type": "stream",
     "text": [
      "🚫 Classification: IGNORE - This email can be safely ignored\n"
     ]
    }
   ],
   "source": [
    "email_input = {\n",
    "    \"author\": \"Alice Jones <alice.jones@bar.com>\",\n",
    "    \"to\": \"Lim Yoona <yoona@company.com>\",\n",
    "    \"subject\": \"Quick question about API documentation\",\n",
    "    \"email_thread\": \"\"\"\n",
    "    \tHi Yoon,\n",
    "\n",
    "\t\tUrgent issue - your service is down. Is there a reason why.\n",
    "    \"\"\",\n",
    "}\n",
    "\n",
    "response = email_agent.invoke(\n",
    "    {\"email_input\": email_input},\n",
    "    config={\"configurable\": {\"langgraph_user_id\": \"lance\"}}\n",
    ")\n",
    "for m in response[\"messages\"]:\n",
    "    m.pretty_print()"
   ]
  },
  {
   "cell_type": "code",
   "execution_count": 21,
   "id": "ff2ab1f8",
   "metadata": {},
   "outputs": [
    {
     "data": {
      "text/plain": [
       "'Ignore marketing newsletters, spam emails, mass company announcements, and any emails from Alice Jones.'"
      ]
     },
     "execution_count": 21,
     "metadata": {},
     "output_type": "execute_result"
    }
   ],
   "source": [
    "store.get((\"lance\",), \"triage_ignore\").value['prompt']"
   ]
  },
  {
   "cell_type": "code",
   "execution_count": null,
   "id": "6e9a5393",
   "metadata": {},
   "outputs": [],
   "source": []
  }
 ],
 "metadata": {
  "kernelspec": {
   "display_name": "langchain-venv",
   "language": "python",
   "name": "python3"
  },
  "language_info": {
   "codemirror_mode": {
    "name": "ipython",
    "version": 3
   },
   "file_extension": ".py",
   "mimetype": "text/x-python",
   "name": "python",
   "nbconvert_exporter": "python",
   "pygments_lexer": "ipython3",
   "version": "3.13.0"
  }
 },
 "nbformat": 4,
 "nbformat_minor": 5
}
