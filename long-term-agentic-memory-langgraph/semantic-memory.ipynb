{
 "cells": [
  {
   "cell_type": "code",
   "execution_count": 1,
   "id": "fd0b2f26",
   "metadata": {},
   "outputs": [],
   "source": [
    "import os\n",
    "\n",
    "from dotenv import load_dotenv\n",
    "from pydantic import BaseModel, Field\n",
    "from typing import List\n",
    "from typing_extensions import Annotated, Literal, TypedDict\n",
    "\n",
    "from langgraph.graph import add_messages\n",
    "\n",
    "\n",
    "_ = load_dotenv()\n",
    "OPENROUTER_API_KEY = os.getenv(\"OPENROUTER_API_KEY\", \"\")\n",
    "\n",
    "class Router(BaseModel):\n",
    "    \"\"\"Analyze the unread email and route it according to its content.\n",
    "    \"\"\"\n",
    "    reasoning: str = Field(\n",
    "        description=\"Step-by-step reasoning behind the classification.\"\n",
    "    )\n",
    "    classification: Literal[\"ignore\", \"respond\", \"notify\"] = Field(\n",
    "        description=\"The classification of an email: 'ignore' for irrelevant emails, 'notify' for important information that doesn't need a response, 'respond' for emails that need a reply\",\n",
    "    )\n",
    "\n",
    "class State(TypedDict):\n",
    "    email_input: str\n",
    "    messages: Annotated[List, add_messages]\n",
    "    \n",
    "profile = {\n",
    "    \"name\": \"Yoona\",\n",
    "    \"full_name\": \"Lim Yoona\",\n",
    "    \"user_profile_background\": \"Senior software engineer leading a team of 5 developers\",\n",
    "}"
   ]
  },
  {
   "cell_type": "code",
   "execution_count": 2,
   "id": "c7f4c1e9",
   "metadata": {},
   "outputs": [],
   "source": [
    "from typing import List\n",
    "\n",
    "from langchain_core.tools import tool\n",
    "from langchain_openai import OpenAIEmbeddings\n",
    "\n",
    "from langgraph.store.memory import InMemoryStore\n",
    "\n",
    "from langmem import create_manage_memory_tool, create_search_memory_tool\n",
    "\n",
    "\n",
    "@tool\n",
    "def write_email(to: str, subject: str, content: str) -> str:\n",
    "    \"\"\"Write and send an email.\"\"\"\n",
    "    # placeholder response - in real app would send email\n",
    "    return f\"Email sent to {to} with subject '{subject}'.\"\n",
    "\n",
    "@tool\n",
    "def schedule_meeting(\n",
    "    attendees: List[str], \n",
    "    subject: str, \n",
    "    duration_minutes: int, \n",
    "    preferred_day: str\n",
    ") -> str:\n",
    "    \"\"\"Schedule a calendar meeting.\"\"\"\n",
    "    # placeholder response - in real app would check calendar and schedule\n",
    "    return f\"Meeting '{subject}' scheduled for {preferred_day} with {len(attendees)} attendees.\"\n",
    "\n",
    "@tool\n",
    "def check_calendar_availability(day: str) -> str:\n",
    "    \"\"\"Check calendar availability for a given day.\"\"\"\n",
    "    # placeholder response - in real app would check actual calendar\n",
    "    return f\"Available times on {day}: 9:00 AM, 2:00 PM, 4:00 PM.\"\n",
    "\n",
    "embeddings = OpenAIEmbeddings(\n",
    "    model=\"text-embedding-3-small\",\n",
    ")\n",
    "\n",
    "store = InMemoryStore(\n",
    "    index={\"embed\": embeddings}\n",
    ")\n",
    "\n",
    "manage_memory_tool = create_manage_memory_tool(\n",
    "    namespace=(\n",
    "        \"email_assistant\", \n",
    "        \"{langgraph_user_id}\",\n",
    "        \"collection\"\n",
    "    )\n",
    ")\n",
    "search_memory_tool = create_search_memory_tool(\n",
    "    namespace=(\n",
    "        \"email_assistant\",\n",
    "        \"{langgraph_user_id}\",\n",
    "        \"collection\"\n",
    "    )\n",
    ")"
   ]
  },
  {
   "cell_type": "code",
   "execution_count": 3,
   "id": "29a13b20",
   "metadata": {},
   "outputs": [],
   "source": [
    "from prompts import agent_system_prompt_memory, prompt_instructions\n",
    "\n",
    "\n",
    "def create_prompt(state):\n",
    "    return [\n",
    "        {\n",
    "            \"role\": \"system\", \n",
    "            \"content\": agent_system_prompt_memory.format(\n",
    "                full_name=profile[\"full_name\"],\n",
    "                name=profile[\"name\"],\n",
    "                user_profile_background=profile[\"user_profile_background\"],\n",
    "\t\t\t\tinstructions=prompt_instructions[\"agent_instructions\"], \n",
    "            )\n",
    "        }\n",
    "    ] + state['messages']"
   ]
  },
  {
   "cell_type": "code",
   "execution_count": 4,
   "id": "9d77c1c6",
   "metadata": {},
   "outputs": [
    {
     "name": "stdout",
     "output_type": "stream",
     "text": [
      "================================\u001b[1m Human Message \u001b[0m=================================\n",
      "\n",
      "Jim is my friend\n",
      "==================================\u001b[1m Ai Message \u001b[0m==================================\n",
      "Tool Calls:\n",
      "  manage_memory (call_eYbUH4Ej5RPv2LWZkxa9EKtl)\n",
      " Call ID: call_eYbUH4Ej5RPv2LWZkxa9EKtl\n",
      "  Args:\n",
      "    content: Jim is Yoona's friend.\n",
      "    action: create\n",
      "=================================\u001b[1m Tool Message \u001b[0m=================================\n",
      "Name: manage_memory\n",
      "\n",
      "created memory 883e560d-c358-4c94-9415-7558277e8ce5\n",
      "==================================\u001b[1m Ai Message \u001b[0m==================================\n",
      "\n",
      "I've noted that Jim is your friend. If you’d like, I can remember any preferences or details related to Jim in the future. Just let me know how I can assist!\n"
     ]
    }
   ],
   "source": [
    "from langgraph.prebuilt import create_react_agent\n",
    "\n",
    "from langchain_openai import ChatOpenAI\n",
    "\n",
    "\n",
    "llm = ChatOpenAI(\n",
    "\tmodel=\"openai/gpt-4.1\",\n",
    "\tbase_url=\"https://openrouter.ai/api/v1\",\n",
    "\tapi_key=OPENROUTER_API_KEY\n",
    ")\n",
    "\n",
    "tools= [\n",
    "    write_email, \n",
    "    schedule_meeting,\n",
    "    check_calendar_availability,\n",
    "    manage_memory_tool,\n",
    "    search_memory_tool\n",
    "]\n",
    "\n",
    "response_agent = create_react_agent(\n",
    "    llm,\n",
    "    tools=tools,\n",
    "    prompt=create_prompt,\n",
    "    store=store\t    # use this to ensure the store is passed to the agent \n",
    ")\n",
    "\n",
    "config = {\"configurable\": {\"langgraph_user_id\": \"lance\"}}\n",
    "\n",
    "response = response_agent.invoke(\n",
    "    {\"messages\": [{\"role\": \"user\", \"content\": \"Jim is my friend\"}]},\n",
    "    config=config\n",
    ")\n",
    "for m in response[\"messages\"]:\n",
    "    m.pretty_print()"
   ]
  },
  {
   "cell_type": "code",
   "execution_count": 5,
   "id": "e1138b56",
   "metadata": {},
   "outputs": [
    {
     "name": "stdout",
     "output_type": "stream",
     "text": [
      "================================\u001b[1m Human Message \u001b[0m=================================\n",
      "\n",
      "who is jim?\n",
      "==================================\u001b[1m Ai Message \u001b[0m==================================\n",
      "Tool Calls:\n",
      "  search_memory (call_b0KYOCbBx4TBGoJit6NfRj3v)\n",
      " Call ID: call_b0KYOCbBx4TBGoJit6NfRj3v\n",
      "  Args:\n",
      "    query: jim\n",
      "=================================\u001b[1m Tool Message \u001b[0m=================================\n",
      "Name: search_memory\n",
      "\n",
      "[{\"namespace\": [\"email_assistant\", \"lance\", \"collection\"], \"key\": \"883e560d-c358-4c94-9415-7558277e8ce5\", \"value\": {\"content\": \"Jim is Yoona's friend.\"}, \"created_at\": \"2025-04-16T05:32:52.262430+00:00\", \"updated_at\": \"2025-04-16T05:32:52.262434+00:00\", \"score\": 0.4500619458107793}]\n",
      "==================================\u001b[1m Ai Message \u001b[0m==================================\n",
      "\n",
      "Jim is your friend. If you need more specific information or context about Jim, please let me know!\n"
     ]
    }
   ],
   "source": [
    "response = response_agent.invoke(\n",
    "    {\"messages\": [{\"role\": \"user\", \"content\": \"who is jim?\"}]},\n",
    "    config=config\n",
    ")\n",
    "for m in response[\"messages\"]:\n",
    "    m.pretty_print()"
   ]
  },
  {
   "cell_type": "code",
   "execution_count": 6,
   "id": "e7b09bc6",
   "metadata": {},
   "outputs": [
    {
     "data": {
      "text/plain": [
       "[Item(namespace=['email_assistant', 'lance', 'collection'], key='883e560d-c358-4c94-9415-7558277e8ce5', value={'content': \"Jim is Yoona's friend.\"}, created_at='2025-04-16T05:32:52.262430+00:00', updated_at='2025-04-16T05:32:52.262434+00:00', score=None)]"
      ]
     },
     "execution_count": 6,
     "metadata": {},
     "output_type": "execute_result"
    }
   ],
   "source": [
    "store.search(('email_assistant', 'lance', 'collection'))"
   ]
  },
  {
   "cell_type": "code",
   "execution_count": 7,
   "id": "02c42525",
   "metadata": {},
   "outputs": [
    {
     "data": {
      "text/plain": [
       "[Item(namespace=['email_assistant', 'lance', 'collection'], key='883e560d-c358-4c94-9415-7558277e8ce5', value={'content': \"Jim is Yoona's friend.\"}, created_at='2025-04-16T05:32:52.262430+00:00', updated_at='2025-04-16T05:32:52.262434+00:00', score=0.4500619458107793)]"
      ]
     },
     "execution_count": 7,
     "metadata": {},
     "output_type": "execute_result"
    }
   ],
   "source": [
    "store.search(('email_assistant', 'lance', 'collection'), query=\"jim\")"
   ]
  },
  {
   "cell_type": "code",
   "execution_count": 8,
   "id": "51ab5a1f",
   "metadata": {},
   "outputs": [],
   "source": [
    "from typing import Literal\n",
    "\n",
    "from langchain_openai import ChatOpenAI\n",
    "\n",
    "from langgraph.graph import StateGraph, START, END\n",
    "from langgraph.types import Command\n",
    "\n",
    "from prompts import triage_system_prompt, triage_user_prompt, prompt_instructions\n",
    "\n",
    "\n",
    "llm = ChatOpenAI(\n",
    "\tmodel=\"openai/gpt-4.1\",\n",
    "\tbase_url=\"https://openrouter.ai/api/v1\",\n",
    "\tapi_key=OPENROUTER_API_KEY\n",
    ")\n",
    "llm_router = llm.with_structured_output(Router)\n",
    "\n",
    "def triage_router(state: State) -> Command[Literal[\"response_agent\", \"__end__\"]]:\n",
    "    author = state['email_input']['author']\n",
    "    to = state['email_input']['to']\n",
    "    subject = state['email_input']['subject']\n",
    "    email_thread = state['email_input']['email_thread']\n",
    "\n",
    "    system_prompt = triage_system_prompt.format(\n",
    "        full_name=profile[\"full_name\"],\n",
    "        name=profile[\"name\"],\n",
    "        user_profile_background=profile[\"user_profile_background\"],\n",
    "        triage_no=prompt_instructions[\"triage_rules\"][\"ignore\"],\n",
    "        triage_notify=prompt_instructions[\"triage_rules\"][\"notify\"],\n",
    "        triage_email=prompt_instructions[\"triage_rules\"][\"respond\"],\n",
    "        examples=None\n",
    "    )\n",
    "    user_prompt = triage_user_prompt.format(\n",
    "        author=author, \n",
    "        to=to, \n",
    "        subject=subject, \n",
    "        email_thread=email_thread\n",
    "    )\n",
    "    result = llm_router.invoke(\n",
    "        [\n",
    "            {\"role\": \"system\", \"content\": system_prompt},\n",
    "            {\"role\": \"user\", \"content\": user_prompt},\n",
    "        ]\n",
    "    )\n",
    "    if result.classification == \"respond\":\n",
    "        print(\"📧 Classification: RESPOND - This email requires a response\")\n",
    "        goto = \"response_agent\"\n",
    "        update = {\n",
    "            \"messages\": [\n",
    "                {\n",
    "                    \"role\": \"user\",\n",
    "                    \"content\": f\"Respond to the email {state['email_input']}\",\n",
    "                }\n",
    "            ]\n",
    "        }\n",
    "    elif result.classification == \"ignore\":\n",
    "        print(\"🚫 Classification: IGNORE - This email can be safely ignored\")\n",
    "        update = None\n",
    "        goto = END\n",
    "    elif result.classification == \"notify\":\n",
    "        # if real life, this would do something else\n",
    "        print(\"🔔 Classification: NOTIFY - This email contains important information\")\n",
    "        update = None\n",
    "        goto = END\n",
    "    else:\n",
    "        raise ValueError(f\"Invalid classification: {result.classification}\")\n",
    "    return Command(goto=goto, update=update)\n",
    "\n",
    "email_agent = StateGraph(State)\n",
    "email_agent = email_agent.add_node(triage_router)\n",
    "email_agent = email_agent.add_node(\"response_agent\", response_agent)\n",
    "email_agent = email_agent.add_edge(START, \"triage_router\")\n",
    "email_agent = email_agent.compile(store=store)"
   ]
  },
  {
   "cell_type": "code",
   "execution_count": 9,
   "id": "ffb801cf",
   "metadata": {},
   "outputs": [],
   "source": [
    "config = {\"configurable\": {\"langgraph_user_id\": \"asdfg\"}}"
   ]
  },
  {
   "cell_type": "code",
   "execution_count": 10,
   "id": "8391dd8d",
   "metadata": {},
   "outputs": [
    {
     "name": "stdout",
     "output_type": "stream",
     "text": [
      "📧 Classification: RESPOND - This email requires a response\n",
      "================================\u001b[1m Human Message \u001b[0m=================================\n",
      "\n",
      "Respond to the email {'author': 'Alice Smith <alice.smith@company.com>', 'to': 'Lim Yoona <yoona@company.com>', 'subject': 'Quick question about API documentation', 'email_thread': \"\\n    \\tHi Yoon,\\n\\n\\t\\tI was reviewing the API documentation for the new authentication service and noticed a few endpoints seem to be missing from the specs. Could you help clarify if this was intentional or if we should update the docs?\\n\\n\\t\\tSpecifically, I'm looking at:\\n\\t\\t- /auth/refresh\\n\\t\\t- /auth/validate\\n\\n\\t\\tThanks!\\n\\t\\tAlice\\n    \"}\n",
      "==================================\u001b[1m Ai Message \u001b[0m==================================\n",
      "Tool Calls:\n",
      "  write_email (call_aTWpxocSOuvhPFTjt643USKV)\n",
      " Call ID: call_aTWpxocSOuvhPFTjt643USKV\n",
      "  Args:\n",
      "    to: alice.smith@company.com\n",
      "    subject: Re: Quick question about API documentation\n",
      "    content: Hi Alice,\n",
      "\n",
      "Thank you for reaching out and flagging this. The endpoints /auth/refresh and /auth/validate should both be included in the API documentation. It looks like these may have been missed during the last update.\n",
      "\n",
      "I'll coordinate with the team to ensure the documentation is updated to reflect these endpoints. I'll let you know once the revised docs are available, but in the meantime, if you need details on how these endpoints work, feel free to ask!\n",
      "\n",
      "Best regards,\n",
      "Yoona\n",
      "=================================\u001b[1m Tool Message \u001b[0m=================================\n",
      "Name: write_email\n",
      "\n",
      "Email sent to alice.smith@company.com with subject 'Re: Quick question about API documentation'.\n",
      "==================================\u001b[1m Ai Message \u001b[0m==================================\n",
      "\n",
      "I've drafted and sent a response to Alice, confirming that the two endpoints should be included in the API documentation and assuring her that the documentation will be updated soon. If you need to coordinate with your team to revise the docs or provide her with details on those endpoints, please let me know how you’d like to proceed!\n"
     ]
    }
   ],
   "source": [
    "email_input = {\n",
    "    \"author\": \"Alice Smith <alice.smith@company.com>\",\n",
    "    \"to\": \"Lim Yoona <yoona@company.com>\",\n",
    "    \"subject\": \"Quick question about API documentation\",\n",
    "    \"email_thread\": \"\"\"\n",
    "    \tHi Yoon,\n",
    "\n",
    "\t\tI was reviewing the API documentation for the new authentication service and noticed a few endpoints seem to be missing from the specs. Could you help clarify if this was intentional or if we should update the docs?\n",
    "\n",
    "\t\tSpecifically, I'm looking at:\n",
    "\t\t- /auth/refresh\n",
    "\t\t- /auth/validate\n",
    "\n",
    "\t\tThanks!\n",
    "\t\tAlice\n",
    "    \"\"\",\n",
    "}\n",
    "\n",
    "response = email_agent.invoke({\"email_input\": email_input}, config=config)\n",
    "for m in response[\"messages\"]:\n",
    "    m.pretty_print()"
   ]
  },
  {
   "cell_type": "code",
   "execution_count": 11,
   "id": "053f5767",
   "metadata": {},
   "outputs": [
    {
     "name": "stdout",
     "output_type": "stream",
     "text": [
      "📧 Classification: RESPOND - This email requires a response\n",
      "================================\u001b[1m Human Message \u001b[0m=================================\n",
      "\n",
      "Respond to the email {'author': 'Alice Smith <alice.smith@company.com>', 'to': 'Lim Yoona <yoona@company.com>', 'subject': 'Follow up', 'email_thread': '\\n    \\tHi Yoon,\\n\\n\\t\\tAny update on my previous ask?\\n    '}\n",
      "==================================\u001b[1m Ai Message \u001b[0m==================================\n",
      "\n",
      "Certainly! Here is a polite and professional response you can send to Alice Smith:\n",
      "\n",
      "---\n",
      "\n",
      "Subject: Re: Follow up\n",
      "\n",
      "Hi Alice,\n",
      "\n",
      "Thank you for your follow-up. I’m currently looking into your previous request and will get back to you with an update as soon as possible. Please let me know if there’s a specific deadline or any additional details you’d like me to consider.\n",
      "\n",
      "Best regards,  \n",
      "Yoona\n",
      "\n",
      "---\n",
      "\n",
      "Would you like me to send this reply to Alice Smith, or do you want to include any specific updates regarding her previous ask?\n"
     ]
    }
   ],
   "source": [
    "email_input = {\n",
    "    \"author\": \"Alice Smith <alice.smith@company.com>\",\n",
    "    \"to\": \"Lim Yoona <yoona@company.com>\",\n",
    "    \"subject\": \"Follow up\",\n",
    "    \"email_thread\": \"\"\"\n",
    "    \tHi Yoon,\n",
    "\n",
    "\t\tAny update on my previous ask?\n",
    "    \"\"\",\n",
    "}\n",
    "\n",
    "response = email_agent.invoke({\"email_input\": email_input}, config=config)\n",
    "for m in response[\"messages\"]:\n",
    "    m.pretty_print()"
   ]
  },
  {
   "cell_type": "code",
   "execution_count": 12,
   "id": "cf7c083c",
   "metadata": {},
   "outputs": [
    {
     "data": {
      "text/plain": [
       "[]"
      ]
     },
     "execution_count": 12,
     "metadata": {},
     "output_type": "execute_result"
    }
   ],
   "source": [
    "store.search(('email_assistant', 'asdfg', 'collection'))"
   ]
  },
  {
   "cell_type": "code",
   "execution_count": null,
   "id": "164fe21d",
   "metadata": {},
   "outputs": [],
   "source": []
  }
 ],
 "metadata": {
  "kernelspec": {
   "display_name": "langchain-venv",
   "language": "python",
   "name": "python3"
  },
  "language_info": {
   "codemirror_mode": {
    "name": "ipython",
    "version": 3
   },
   "file_extension": ".py",
   "mimetype": "text/x-python",
   "name": "python",
   "nbconvert_exporter": "python",
   "pygments_lexer": "ipython3",
   "version": "3.13.0"
  }
 },
 "nbformat": 4,
 "nbformat_minor": 5
}
